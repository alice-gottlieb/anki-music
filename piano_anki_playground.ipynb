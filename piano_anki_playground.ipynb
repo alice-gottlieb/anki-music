{
 "cells": [
  {
   "cell_type": "code",
   "execution_count": 7,
   "metadata": {},
   "outputs": [
    {
     "data": {
      "text/plain": [
       "['1-4 song name,', '5-8 song name,', '7-10 song name,']"
      ]
     },
     "execution_count": 7,
     "metadata": {},
     "output_type": "execute_result"
    }
   ],
   "source": [
    "def boxcar_str(arr_size, win_size=2, start=0, step=1, suffix='test'):\n",
    "    '''Yields string of the format \\'i-(i + win_size),\\' where \\'-\\' is a dash. \n",
    "    i ranges from [start, start+arr_size] inclusive with step defaulting to 1.\n",
    "    The final element yielded always ends with start + arr_size.\n",
    "    \n",
    "    Arguments:\n",
    "    arr_size (int) -- total number of individual elements\n",
    "    win_size (int) -- size difference between initial and final of each window.\n",
    "        Default = 2\n",
    "    start (int) -- starting value for first window.\n",
    "        Default = 0\n",
    "    step (int) -- step size between initial value of each window\n",
    "        Default = 1\n",
    "    suffix (string) -- name of song to use as suffix\n",
    "        Deafult='test'\n",
    "        \n",
    "    Returns:\n",
    "    Generator which yields string of the format \\'i-(i + win_size),\\' where \\'-\\' is a dash. \n",
    "    '''\n",
    "    \n",
    "    for i in range(start, start + arr_size + 1 - win_size, step):\n",
    "        yield (str(i) + '-' + str(i + win_size - 1) +  ' ' + suffix + ',')\n",
    "    \n",
    "    if i < start + arr_size - win_size:\n",
    "        i = start + arr_size - win_size\n",
    "        yield (str(i) + '-' + str(i + win_size - 1) + ' ' + suffix + ',')\n",
    "\n",
    "list(boxcar_str(10, 4, start=1, step=4, suffix='song name'))"
   ]
  },
  {
   "cell_type": "code",
   "execution_count": 8,
   "metadata": {},
   "outputs": [],
   "source": [
    "def anki_measures(measures, file_name='test.txt', win_size=4, step=1, suffix='test'):\n",
    "    '''Create txt file of one-sided cards with boxcar windows of measures.\n",
    "    \n",
    "    Arguments:\n",
    "    measures (int) -- Number of measures in the piece\n",
    "    file_name (string) -- Name of txt file to create (file will be overwritten)\n",
    "    win_size (int) -- Size of measure of window\n",
    "        Default=4\n",
    "    step (int) -- Difference between initial values of measure windows\n",
    "        Default=1\n",
    "    suffix (string) -- name of song to use as suffix\n",
    "        Default='test'\n",
    "        \n",
    "    Returns: None\n",
    "    '''\n",
    "    \n",
    "    with open(file_name, \"w\") as f:\n",
    "        for i in boxcar_str(measures, win_size, 1, step, suffix):\n",
    "            print(i, file=f)"
   ]
  },
  {
   "cell_type": "code",
   "execution_count": 10,
   "metadata": {},
   "outputs": [],
   "source": [
    "def anki_exponentials(measures, file_prefix='test', suffix='test'):\n",
    "    '''Create 4 anki file from Short (win_size=4, step=2) \n",
    "    through Extra Long (win_size=32, step=16) \n",
    "    with win_size and step increasing exponentially.\n",
    "    \n",
    "    Arguments:\n",
    "    measures (int) -- Total number of measure in piece\n",
    "    file_prefix (string) -- Prefix to place in file name, \n",
    "    files will have names 'prefix_short.txt', 'prefix_med.txt'.\n",
    "    'prefix_long.txt', and 'prefix_xlong.txt'.\n",
    "        Default='test'\n",
    "    suffix (string) -- name of song to use as suffix\n",
    "    \n",
    "    Returns:\n",
    "    file_names (list of strings) -- list consisting of the 4 file names given above\n",
    "    '''\n",
    "    \n",
    "    suffixes = ['short', 'med', 'long', 'xlong']\n",
    "    file_names = [file_prefix + '_' + suffixes[i] + '.txt' for i in range(4)]\n",
    "    for i in range(4):\n",
    "        anki_measures(measures, file_names[i], win_size=2**(i+2), step=2**(i+1), suffix=suffix)\n",
    "        \n",
    "    return file_names"
   ]
  },
  {
   "cell_type": "code",
   "execution_count": 11,
   "metadata": {},
   "outputs": [
    {
     "data": {
      "text/plain": [
       "['test_short.txt', 'test_med.txt', 'test_long.txt', 'test_xlong.txt']"
      ]
     },
     "execution_count": 11,
     "metadata": {},
     "output_type": "execute_result"
    }
   ],
   "source": [
    "anki_exponentials(69)"
   ]
  },
  {
   "cell_type": "code",
   "execution_count": 97,
   "metadata": {},
   "outputs": [],
   "source": [
    "anki_measures(69, 'moonlight_xlong.txt', win_size=32, step=13)"
   ]
  },
  {
   "cell_type": "code",
   "execution_count": 96,
   "metadata": {},
   "outputs": [
    {
     "name": "stdout",
     "output_type": "stream",
     "text": [
      "['1-4,', '3-6,', '5-8,', '7-10,', '9-12,', '11-14,', '13-16,', '15-18,', '17-20,', '19-22,', '21-24,', '23-26,', '25-28,', '27-30,', '29-32,', '31-34,', '33-36,', '35-38,', '37-40,', '39-42,', '41-44,', '43-46,', '45-48,', '47-50,', '49-52,', '51-54,', '53-56,', '55-58,', '57-60,', '59-62,', '61-64,', '63-66,', '65-68,', '66-69,']\n",
      "34\n",
      "['1-8,', '5-12,', '9-16,', '13-20,', '17-24,', '21-28,', '25-32,', '29-36,', '33-40,', '37-44,', '41-48,', '45-52,', '49-56,', '53-60,', '57-64,', '61-68,', '62-69,']\n",
      "17\n",
      "['1-16,', '9-24,', '17-32,', '25-40,', '33-48,', '41-56,', '49-64,', '54-69,']\n",
      "8\n",
      "['1-32,', '14-45,', '27-58,', '38-69,']\n",
      "4\n"
     ]
    }
   ],
   "source": [
    "print(list(boxcar_str(69, 4, 1, 2)))\n",
    "print(len(list(boxcar_str(69, 4, 1, 2))))\n",
    "\n",
    "test_list = list(boxcar_str(69, 8, 1, 4))\n",
    "print(test_list)\n",
    "print(len(test_list))\n",
    "\n",
    "test_list = list(boxcar_str(69, 16, 1, 8))\n",
    "print(test_list)\n",
    "print(len(test_list))\n",
    "\n",
    "test_list = list(boxcar_str(69, 32, 1, 13))\n",
    "print(test_list)\n",
    "print(len(test_list))"
   ]
  },
  {
   "cell_type": "code",
   "execution_count": 14,
   "metadata": {},
   "outputs": [],
   "source": [
    "measures = 69\n",
    "with open(\"moonlight_test.txt\", \"w\") as f:\n",
    "    for i in range(1, measures-2):\n",
    "        print(str(i) + '-' + str(i+3) + ',', file=f)"
   ]
  }
 ],
 "metadata": {
  "kernelspec": {
   "display_name": "Python 3",
   "language": "python",
   "name": "python3"
  },
  "language_info": {
   "codemirror_mode": {
    "name": "ipython",
    "version": 3
   },
   "file_extension": ".py",
   "mimetype": "text/x-python",
   "name": "python",
   "nbconvert_exporter": "python",
   "pygments_lexer": "ipython3",
   "version": "3.8.3"
  }
 },
 "nbformat": 4,
 "nbformat_minor": 4
}
